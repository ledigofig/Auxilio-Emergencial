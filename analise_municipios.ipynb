{
 "cells": [
  {
   "cell_type": "code",
   "execution_count": 2,
   "metadata": {},
   "outputs": [],
   "source": [
    "import pandas as pd"
   ]
  },
  {
   "cell_type": "code",
   "execution_count": 5,
   "metadata": {},
   "outputs": [],
   "source": [
    "municipio = ['araputanga', 'figueiropolis','gloria_d_oeste', \n",
    "             'indiavai', 'jauru', 'lambari_doste',  \n",
    "             'mirassol', 'porto', 'reserva',\n",
    "             'rio_branco', 'salto', 'sao_jose_quatro_marcos'\n",
    "            ]"
   ]
  },
  {
   "cell_type": "code",
   "execution_count": 3,
   "metadata": {},
   "outputs": [
    {
     "ename": "FileNotFoundError",
     "evalue": "[Errno 2] No such file or directory: 'src/municipio_link.csv'",
     "output_type": "error",
     "traceback": [
      "\u001b[0;31m---------------------------------------------------------------------------\u001b[0m",
      "\u001b[0;31mFileNotFoundError\u001b[0m                         Traceback (most recent call last)",
      "\u001b[0;32m<ipython-input-3-7297927ecae4>\u001b[0m in \u001b[0;36m<module>\u001b[0;34m\u001b[0m\n\u001b[1;32m      1\u001b[0m \u001b[0;32mimport\u001b[0m \u001b[0mcsv\u001b[0m \u001b[0;31m#importando csv\u001b[0m\u001b[0;34m\u001b[0m\u001b[0;34m\u001b[0m\u001b[0m\n\u001b[1;32m      2\u001b[0m \u001b[0;34m\u001b[0m\u001b[0m\n\u001b[0;32m----> 3\u001b[0;31m \u001b[0mcidade_link\u001b[0m \u001b[0;34m=\u001b[0m \u001b[0mopen\u001b[0m\u001b[0;34m(\u001b[0m\u001b[0;34m'src/municipio_link.csv'\u001b[0m\u001b[0;34m)\u001b[0m\u001b[0;34m\u001b[0m\u001b[0;34m\u001b[0m\u001b[0m\n\u001b[0m\u001b[1;32m      4\u001b[0m \u001b[0;34m\u001b[0m\u001b[0m\n\u001b[1;32m      5\u001b[0m \u001b[0mimplementa\u001b[0m \u001b[0;34m=\u001b[0m \u001b[0mcsv\u001b[0m\u001b[0;34m.\u001b[0m\u001b[0mDictReader\u001b[0m\u001b[0;34m(\u001b[0m\u001b[0mcidade_link\u001b[0m\u001b[0;34m)\u001b[0m\u001b[0;34m\u001b[0m\u001b[0;34m\u001b[0m\u001b[0m\n",
      "\u001b[0;31mFileNotFoundError\u001b[0m: [Errno 2] No such file or directory: 'src/municipio_link.csv'"
     ]
    }
   ],
   "source": [
    "import csv #importando csv\n",
    "\n",
    "cidade_link = open('src/municipio_link.csv')\n",
    "\n",
    "implementa = csv.DictReader(cidade_link)\n",
    "#a leitura só funcionara com os parametros abaixo com o parametro acimas\n",
    "\n",
    "for inplemente in implementa:\n",
    "    #lendo arquivo python para rastrear o separador\n",
    "    carregar_separador = open(inplemente['link'],encoding='ISO-8859-1')\n",
    "    separa = csv.Sniffer().sniff(carregar_separador.read())\n",
    "    separador = separa.delimiter\n",
    "    print(separador)\n",
    "    #---------------------------------------\n",
    "    #dividindo municipio para colocar na variavel de nome    \n",
    "    dividi_municipio = inplemente['municipio'].split(' ')# o codigo dividi o nome do municipio\n",
    "    #----------------------------------------------\n",
    "    \n",
    "    # Carregando csv no pandas \n",
    "    servidores = pd.read_csv(inplemente['link']#chama o arquivo csv \n",
    "                             ,sep=separador #informa o separador do arquivo\n",
    "                             ,encoding='ISO-8859-1', #informa a codificação do arquivo\n",
    "                             error_bad_lines=False,\n",
    "                             engine='python') #trata os erros nas linhas\n",
    "    nome_variavel = 'servidores_{}'.format(dividi_municipio[0])     #alterando o nome da variavel\n",
    "    globals()[nome_variavel] = servidores\n",
    "    globals()[nome_variavel]['Municipio'] = inplemente['municipio']\n",
    "    print(nome_variavel)\n",
    "    print('-------------------------')\n",
    "\n"
   ]
  },
  {
   "cell_type": "code",
   "execution_count": 4,
   "metadata": {},
   "outputs": [
    {
     "data": {
      "text/plain": [
       "'src/araputanga/'"
      ]
     },
     "execution_count": 4,
     "metadata": {},
     "output_type": "execute_result"
    }
   ],
   "source": [
    "'src/araputanga/ser'\n",
    "'src/araputanga/'"
   ]
  },
  {
   "cell_type": "code",
   "execution_count": null,
   "metadata": {},
   "outputs": [],
   "source": [
    "'src/figueiropolis/Portal Transp. Servidores_mes04.csv'"
   ]
  }
 ],
 "metadata": {
  "kernelspec": {
   "display_name": "Python 3",
   "language": "python",
   "name": "python3"
  },
  "language_info": {
   "codemirror_mode": {
    "name": "ipython",
    "version": 3
   },
   "file_extension": ".py",
   "mimetype": "text/x-python",
   "name": "python",
   "nbconvert_exporter": "python",
   "pygments_lexer": "ipython3",
   "version": "3.7.6"
  }
 },
 "nbformat": 4,
 "nbformat_minor": 4
}
