{
 "cells": [
  {
   "cell_type": "markdown",
   "metadata": {},
   "source": [
    "Primeiro passo importando as bibliotecas"
   ]
  },
  {
   "cell_type": "code",
   "execution_count": null,
   "metadata": {},
   "outputs": [],
   "source": [
    "import pandas as pd\n",
    "import csv #importando csv\n",
    "import requests\n",
    "from bs4 import BeautifulSoup"
   ]
  },
  {
   "cell_type": "markdown",
   "metadata": {},
   "source": [
    "- A pesquisa ficou adestrita a região do vale do Jauru\n",
    "\n",
    "- Região vale do Jauru\n",
    "\n",
    "        Araputanga\n",
    "        Figueirópolis d'Oeste\n",
    "        Glória d'Oeste\n",
    "        Indiavaí\n",
    "        Jauru\n",
    "        Lambari d'Oeste\n",
    "        Mirassol d'Oeste\n",
    "        Porto Esperidião\n",
    "        Reserva do Cabaçal\n",
    "        Rio Branco\n",
    "        Salto do Céu\n",
    "        São José dos Quatro Marcos\n"
   ]
  },
  {
   "cell_type": "code",
   "execution_count": null,
   "metadata": {},
   "outputs": [],
   "source": [
    "\n",
    "cidade_link = open('src/arquivos.csv')\n",
    "\n",
    "implementa = csv.DictReader(cidade_link)\n",
    "#a leitura só funcionara com os parametros abaixo com o parametro acimas\n",
    "\n",
    "for inplemente in implementa:\n",
    "    #lendo arquivo python para rastrear o separador\n",
    "    carregar_separador = open(inplemente['link'],encoding='ISO-8859-1')\n",
    "    separa = csv.Sniffer().sniff(carregar_separador.read())\n",
    "    separador = separa.delimiter\n",
    "    print(\"Tipo de separador definido foi --> \", separador)\n",
    "    #---------------------------------------\n",
    "    #dividindo municipio para colocar na variavel de nome    \n",
    "    dividi_municipio = inplemente['municipio'].split(' ')# o codigo dividi o nome do municipio\n",
    "    #----------------------------------------------\n",
    "    \n",
    "    # Carregando csv no pandas \n",
    "    servidores = pd.read_csv(inplemente['link']#chama o arquivo csv \n",
    "                             ,sep=separador #informa o separador do arquivo\n",
    "                             ,encoding='ISO-8859-1', #informa a codificação do arquivo\n",
    "                             error_bad_lines=False,\n",
    "                             engine='python') #trata os erros nas linhas\n",
    "    nome_variavel = 'servidores_{}'.format(dividi_municipio[0])     #alterando o nome da variavel\n",
    "    globals()[nome_variavel] = servidores\n",
    "    globals()[nome_variavel]['Municipio'] = inplemente['municipio']\n",
    "    print(nome_variavel)\n",
    "    print('-------------------------')\n",
    "\n"
   ]
  },
  {
   "cell_type": "markdown",
   "metadata": {},
   "source": [
    "- foi necessario criar uma variavel com todos os servidores dos municipios da região oeste"
   ]
  },
  {
   "cell_type": "code",
   "execution_count": null,
   "metadata": {},
   "outputs": [],
   "source": [
    "servidores_municipio_região_oeste = servidores_Lambari, servidores_Indiavaí, servidores_Jauru, servidores_Mirassol, servidores_Porto, servidores_Reserva, servidores_São, servidores_Figueirópolis,servidores_Salto, servidores_Rio, servidores_Gloria, servidores_Araputanga"
   ]
  },
  {
   "cell_type": "code",
   "execution_count": null,
   "metadata": {},
   "outputs": [],
   "source": [
    "resultado = pd.concat(servidores_municipio_região_oeste)\n",
    "#salvando os dados dos servidores da região oeste em CSV\n",
    "resultado.to_csv('servidores_selecionado.csv')"
   ]
  },
  {
   "cell_type": "code",
   "execution_count": null,
   "metadata": {},
   "outputs": [],
   "source": [
    "#exibindo os dados referente a região oeste \n",
    "resultado.head()"
   ]
  },
  {
   "cell_type": "code",
   "execution_count": null,
   "metadata": {},
   "outputs": [],
   "source": [
    "# Objetivo ->    Separando os dados desejados\n",
    "# Motivo   ->    A tabela estava muito populada com dados que não eram necessarios\n",
    "# Ação     ->    Ver quais tabelas são necessarias e isolar somente a elas    \n",
    "resultado = resultado[['Nome', 'Cargo', 'Cargo inicial', 'Municipio']]\n",
    "resultado.head()"
   ]
  },
  {
   "cell_type": "markdown",
   "metadata": {},
   "source": [
    "# Objetivo\n",
    "- Baixar dados do auxilio de forma descentralizada"
   ]
  },
  {
   "cell_type": "markdown",
   "metadata": {},
   "source": [
    "#### FONTE DE DADOS\n",
    "- SITE BRASIL IO \n",
    "* https://brasil.io/dataset/govbr/auxilio_emergencial/"
   ]
  },
  {
   "cell_type": "markdown",
   "metadata": {},
   "source": [
    "#### METODO\n",
    "- baixar os dados por municipios e salvar\n",
    "- **DIFICULDADES**\n",
    "    - O ARQUIVO VINHA COM MASCARA ENTÃO ORDENOU POR NUMERO PARA IMPLEMENTAR UMA BUSCA COM O FOR "
   ]
  },
  {
   "cell_type": "markdown",
   "metadata": {},
   "source": [
    "Implementando codigo para unir dados baixados do site brasil io"
   ]
  },
  {
   "cell_type": "code",
   "execution_count": null,
   "metadata": {},
   "outputs": [],
   "source": [
    "for i in range(1,12):\n",
    "    print('df'+str(i))\n",
    "    df = pd.read_csv(\"src/dados_brasil_io/govbr-{}.csv\".format(i))\n",
    "    nome_variavel = 'df{}'.format(i)\n",
    "    globals()[nome_variavel] = df"
   ]
  },
  {
   "cell_type": "markdown",
   "metadata": {},
   "source": [
    "**Unindo os dataframes**"
   ]
  },
  {
   "cell_type": "code",
   "execution_count": null,
   "metadata": {},
   "outputs": [],
   "source": [
    "auxilio_emergencial = df1, df2, df3, df4, df5, df6, df7, df8, df9, df10 ,df11\n",
    "auxilio_emergencial_vale_jauru = pd.concat(auxilio_emergencial)"
   ]
  },
  {
   "cell_type": "code",
   "execution_count": null,
   "metadata": {},
   "outputs": [],
   "source": [
    "auxilio_emergencial_vale_jauru"
   ]
  },
  {
   "cell_type": "code",
   "execution_count": null,
   "metadata": {},
   "outputs": [],
   "source": [
    "auxilio_emergencial_vale_jauru = auxilio_emergencial_vale_jauru.rename(columns={'beneficiario':'Nome'})\n",
    "auxilio_emergencial_vale_jauru.head()"
   ]
  },
  {
   "cell_type": "code",
   "execution_count": null,
   "metadata": {},
   "outputs": [],
   "source": [
    "# Objetivo ->    Separando os dados desejados\n",
    "# Motivo   ->    A tabela estava muito populada com dados que não eram necessarios\n",
    "# Ação     ->    Ver quais tabelas são necessarias e isolar somente a elas    \n",
    "resultado = resultado[['Nome', 'Cargo', 'Cargo inicial', 'Municipio']]\n",
    "auxilio_emergencial_vale_jauru_trat =auxilio_emergencial_vale_jauru[['municipio', 'cpf_beneficiario', 'enquadramento', 'Nome']]"
   ]
  },
  {
   "cell_type": "code",
   "execution_count": null,
   "metadata": {},
   "outputs": [],
   "source": [
    "ser_rec_aux = auxilio_emergencial_vale_jauru_trat.merge(resultado, on='Nome')"
   ]
  },
  {
   "cell_type": "code",
   "execution_count": null,
   "metadata": {},
   "outputs": [],
   "source": [
    "ser_rec_aux.head()"
   ]
  },
  {
   "cell_type": "markdown",
   "metadata": {},
   "source": [
    "# Observações\n",
    "- Conforme observa-se na busca há servidores que tem mesmo nome (homonimos) em diversas Unidade Gestoras dessa forma faz-se necessario fazer uma comparação no mesmo municipio.\n",
    "- tem como objetivo isolar servidores pelo municipio que mesmo recebeu o auxilio e assim poder realmente comparar.\n",
    "- Há formula abaixo não evita homonimos mas minimiza "
   ]
  },
  {
   "cell_type": "code",
   "execution_count": null,
   "metadata": {},
   "outputs": [],
   "source": [
    "# Abreviatura\n",
    "# ser_rec_aux_mun  = Servidores que receberan Auxilio Emergencial por municipio\n",
    "ser_rec_aux_mun = ser_rec_aux[ser_rec_aux['municipio'] == ser_rec_aux['Municipio']]\n",
    "ser_rec_aux_mun.head()\n"
   ]
  },
  {
   "cell_type": "code",
   "execution_count": null,
   "metadata": {},
   "outputs": [],
   "source": [
    "ser_rec_aux_mun.info()"
   ]
  },
  {
   "cell_type": "code",
   "execution_count": null,
   "metadata": {},
   "outputs": [],
   "source": [
    "ser_rec_aux_mun.head()"
   ]
  },
  {
   "cell_type": "markdown",
   "metadata": {},
   "source": [
    "# _________________________________________\n",
    "## Objetivo pegar os dados dos municipios com base nos nomes registrados no TCE-MT e do IPEA \n",
    "- NÃO FOI ENCONTRADO NENHUMA BASE DE DADOS ONDE E POSSIVEL CORRELACIONAR O CODIGO DO IBGE COM OS DADOS DOS CODIGOS DO TCE.\n",
    "- TODAVIA É POSSIVEL ISOLAR A AREA PELO NOME DO TCE E CRIAR UMA TABELA DE CORRELAÇÃO PELO NOME\n",
    "    - Metodo - implementar correlação somente para região oeste, assimm buscou dados de correlação de região sendo possivel achalas no site do IPEA no site:https://www.ipea.gov.br/ipeageo/bases.html\n",
    "        - baixei os dados referente ao estado de Mato Grosso - MT em formato excel\n",
    "    - Para pegar os nomes cadastrado no site do Tribunal de Contas do Estado de Mato Grosso, a busca deu-se no link https://servicos.tce.mt.gov.br/tabela-interna\n",
    "        - Baixei as tabelas:\n",
    "            - ***MUNICIPIO_MT*** - Cadastro dos municipios de Mato Grosso\n",
    "            - ***TIPO_ENTIDADE*** - cadastro de tipo de unidade Gestora\n",
    "            - ***UG*** - Unidades Gestoras Cadastradas\n",
    "            "
   ]
  },
  {
   "cell_type": "code",
   "execution_count": null,
   "metadata": {},
   "outputs": [],
   "source": [
    "# Carregando e exibindo dados dos Municipios de Mato Grosso (MT)\n",
    "df_municiopios_mt = pd.read_csv('src/dados_tce_mt/APLIC/MUNICIPIO_MT.csv', sep=';')\n",
    "df_municiopios_mt.head()"
   ]
  },
  {
   "cell_type": "code",
   "execution_count": null,
   "metadata": {},
   "outputs": [],
   "source": [
    "# Carregando dados de Mato grosso \n",
    "# -----------Comentarios necessarios---------------\n",
    "# - Tabelas Excel normamente vem com abas nomeada assim foi necessario verificar a que melhor atendia aos\n",
    "#   quesistos a ser levantado esse nome é lançado no campo sheet_name\n",
    "#---------------------------------------------------\n",
    "df_dados_ipea = pd.read_excel('src/dados_ipea/MT_Mun97_region.xls', sheet_name='PIB  municipal (2010)')\n",
    "df_dados_ipea "
   ]
  },
  {
   "cell_type": "code",
   "execution_count": null,
   "metadata": {},
   "outputs": [],
   "source": [
    "#tratando e selecionando somente os dadnos necessarios da tabela do IPEA\n",
    "df_dados_ipea = df_dados_ipea[['Código IBGE do Município', 'Código IBGE da Microregião','Nome da Microregião']]\n",
    "df_dados_ipea"
   ]
  },
  {
   "cell_type": "code",
   "execution_count": null,
   "metadata": {},
   "outputs": [],
   "source": [
    "#selecionando dados do vale do Jauru\n",
    "df_dados_ipea = df_dados_ipea[df_dados_ipea['Nome da Microregião']== 'Jauru']\n",
    "df_dados_ipea"
   ]
  },
  {
   "cell_type": "code",
   "execution_count": null,
   "metadata": {},
   "outputs": [],
   "source": [
    "df_dados_ipea = df_dados_ipea.rename(columns={'Código IBGE do Município':'MUN_CODIGO'})\n",
    "df_dados_ipea"
   ]
  },
  {
   "cell_type": "code",
   "execution_count": null,
   "metadata": {},
   "outputs": [],
   "source": [
    "df_municiopios_mt.info()"
   ]
  },
  {
   "cell_type": "code",
   "execution_count": null,
   "metadata": {},
   "outputs": [],
   "source": [
    "df_dados_ipea.info()"
   ]
  },
  {
   "cell_type": "code",
   "execution_count": null,
   "metadata": {},
   "outputs": [],
   "source": [
    "#df_municiopios_mt['MUN_CODIGO'] = df_municiopios_mt['MUN_CODIGO'].fillna(0.0).astype(int)\n",
    "#df_municiopios_mt.info()"
   ]
  },
  {
   "cell_type": "code",
   "execution_count": null,
   "metadata": {},
   "outputs": [],
   "source": [
    "df_municiopios_mt.head()"
   ]
  },
  {
   "cell_type": "code",
   "execution_count": null,
   "metadata": {},
   "outputs": [],
   "source": [
    "df_municiopios_mt[df_municiopios_mt['MUN_NOME'] == 'JAURU']"
   ]
  },
  {
   "cell_type": "code",
   "execution_count": null,
   "metadata": {},
   "outputs": [],
   "source": [
    "df_municipios_com_id = df_municiopios_mt.merge(df_dados_ipea, on='MUN_CODIGO')"
   ]
  },
  {
   "cell_type": "code",
   "execution_count": null,
   "metadata": {},
   "outputs": [],
   "source": [
    "df_municipios_com_id = df_municipios_com_id[['MUN_CODIGO', 'Nome da Microregião','MUN_NOME', 'GENTILICO']]\n",
    "df_municipios_com_id.head()"
   ]
  },
  {
   "cell_type": "code",
   "execution_count": null,
   "metadata": {},
   "outputs": [],
   "source": [
    "df_ug_tce = pd.read_csv('src/dados_tce_mt/APLIC/UG.csv', sep=';')\n",
    "df_ug_tce.head(60)"
   ]
  },
  {
   "cell_type": "code",
   "execution_count": null,
   "metadata": {},
   "outputs": [],
   "source": [
    "dados_jose = pd.read_excel('src/dados_tce_mt/Leandro DSA.xlsx')\n",
    "dados_jose"
   ]
  },
  {
   "cell_type": "code",
   "execution_count": null,
   "metadata": {},
   "outputs": [],
   "source": [
    "selecionando_municipios = df_municipios_com_id.merge(dados_jose, on='MUN_CODIGO')\n",
    "selecionando_municipios"
   ]
  },
  {
   "cell_type": "code",
   "execution_count": null,
   "metadata": {},
   "outputs": [],
   "source": [
    "#isolando somente as prefeituras\n",
    "prefeitura_nome = []\n",
    "for x in selecionando_municipios['ENT_NOME']:\n",
    "    prefeitura = x.count('PREFEITURA')\n",
    "    if prefeitura != 0:\n",
    "        #print(x)\n",
    "        prefeitura_nome.append(x)\n",
    "            \n",
    "prefeitura_nome\n",
    "prefeituras = pd.DataFrame(prefeitura_nome,columns=['ENT_NOME'])"
   ]
  },
  {
   "cell_type": "code",
   "execution_count": null,
   "metadata": {},
   "outputs": [],
   "source": [
    "seleciona_prefeitura = selecionando_municipios.merge(prefeituras, on='ENT_NOME')\n",
    "seleciona_prefeitura"
   ]
  },
  {
   "cell_type": "markdown",
   "metadata": {},
   "source": [
    "# Implementando busca automatizada no site do Tribunal de Contas do Estado de Mato Grosso na parte de pessoal \n",
    "- site: https://cidadao.tce.mt.gov.br/pessoal\n",
    "- Pois lá tem parte do CPF que pode ser consultada\n",
    " <img src='src/img/Screenshot_2020-07-23 TCEMT Espaço do Cidadão - Pessoal.png'>"
   ]
  },
  {
   "cell_type": "code",
   "execution_count": null,
   "metadata": {},
   "outputs": [],
   "source": [
    "# Durante pesquisa foi possivel verificar que o Tribunal de Contas do Estado de \n",
    "# Mato Grosso tem dados de 2011 a 2020\n",
    "# Solução implementar um range de 2011 a 2021\n",
    "# Lembrando que python sempre le um numero  a menos que informado pois a contagem inicia em 0\n",
    "ato_pessoal_tce_anos = list(range(2011,2021))\n",
    "print(ato_pessoal_tce_anos)\n"
   ]
  },
  {
   "cell_type": "code",
   "execution_count": null,
   "metadata": {},
   "outputs": [],
   "source": [
    "#definindo url\n",
    "url = 'https://cidadao.tce.mt.gov.br/pessoal/lista?exercicio=2011&situacao=situacao[]%3DEFETIVO%26situacao[]%3DELETIVO%26situacao[]%3DLIVRE%2BNOMEA%25C7%25C3O%2BE%2BEXONERA%25C7%25C3O&municipio=510125&ent_codigo=1121375&lotacao='"
   ]
  },
  {
   "cell_type": "code",
   "execution_count": null,
   "metadata": {},
   "outputs": [],
   "source": [
    "for x in ato_pessoal_tce_anos:\n",
    "    r = requests.get('https://cidadao.tce.mt.gov.br/pessoal/lista?exercicio={}&situacao=situacao[]%3DEFETIVO%26situacao[]%3DELETIVO%26situacao[]%3DLIVRE%2BNOMEA%25C7%25C3O%2BE%2BEXONERA%25C7%25C3O&municipio=510125&ent_codigo=1121375&lotacao='.format(x))\n",
    "    print(x)\n",
    "    \n"
   ]
  },
  {
   "cell_type": "code",
   "execution_count": null,
   "metadata": {},
   "outputs": [],
   "source": [
    "dataframetce = pd.read_html(r.text)"
   ]
  },
  {
   "cell_type": "code",
   "execution_count": null,
   "metadata": {},
   "outputs": [],
   "source": [
    "dataframetce[1]"
   ]
  },
  {
   "cell_type": "code",
   "execution_count": null,
   "metadata": {},
   "outputs": [],
   "source": [
    "soup = BeautifulSoup(r.content, 'html.parser')\n",
    "print(soup.prettify())"
   ]
  },
  {
   "cell_type": "code",
   "execution_count": null,
   "metadata": {},
   "outputs": [],
   "source": [
    "soup.select('thead tr')"
   ]
  },
  {
   "cell_type": "code",
   "execution_count": null,
   "metadata": {},
   "outputs": [],
   "source": []
  }
 ],
 "metadata": {
  "kernelspec": {
   "display_name": "Python 3",
   "language": "python",
   "name": "python3"
  },
  "language_info": {
   "codemirror_mode": {
    "name": "ipython",
    "version": 3
   },
   "file_extension": ".py",
   "mimetype": "text/x-python",
   "name": "python",
   "nbconvert_exporter": "python",
   "pygments_lexer": "ipython3",
   "version": "3.7.6"
  }
 },
 "nbformat": 4,
 "nbformat_minor": 4
}
